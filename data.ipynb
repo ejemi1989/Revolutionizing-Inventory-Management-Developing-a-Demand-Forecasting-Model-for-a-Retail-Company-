{
  "nbformat": 4,
  "nbformat_minor": 0,
  "metadata": {
    "colab": {
      "provenance": []
    },
    "kernelspec": {
      "name": "python3",
      "display_name": "Python 3"
    },
    "language_info": {
      "name": "python"
    }
  },
  "cells": [
    {
      "cell_type": "code",
      "execution_count": null,
      "metadata": {
        "id": "bkM2FLuN9KC4"
      },
      "outputs": [],
      "source": [
        "# Import libraries\n",
        "import pandas as pd\n",
        "import numpy as np\n",
        "import matplotlib.pyplot as plt\n",
        "import seaborn as sns\n",
        "from sklearn.linear_model import LinearRegression\n",
        "from sklearn.metrics import mean_squared_error\n",
        "\n",
        "# Load data\n",
        "data = pd.read_csv('sales_data.csv')\n",
        "\n",
        "# Data cleaning and preparation\n",
        "data.dropna(inplace=True) # Drop rows with missing data\n",
        "data['date'] = pd.to_datetime(data['date']) # Convert date column to datetime format\n",
        "data.set_index('date', inplace=True) # Set date column as index\n",
        "data_monthly = data.resample('M').sum() # Resample data to monthly intervals\n",
        "data_monthly = data_monthly[['sales']] # Select only sales column\n",
        "\n",
        "# Data visualization and exploration\n",
        "plt.figure(figsize=(10,5))\n",
        "sns.lineplot(x=data_monthly.index, y='sales', data=data_monthly)\n",
        "plt.title('Monthly Sales Data')\n",
        "plt.xlabel('Date')\n",
        "plt.ylabel('Sales')\n",
        "plt.show()\n",
        "\n",
        "# Feature engineering\n",
        "data_monthly['lag_1'] = data_monthly['sales'].shift(1) # Create lag feature\n",
        "data_monthly['trend'] = np.arange(len(data_monthly)) # Create trend feature\n",
        "\n",
        "# Model training and evaluation\n",
        "X = data_monthly[['lag_1', 'trend']].iloc[1:] # Select lag and trend features, excluding first row with missing data\n",
        "y = data_monthly['sales'].iloc[1:] # Select sales column, excluding first row with missing data\n",
        "model = LinearRegression() # Instantiate linear regression model\n",
        "model.fit(X, y) # Fit model to data\n",
        "y_pred = model.predict(X) # Make predictions using trained model\n",
        "mse = mean_squared_error(y, y_pred) # Calculate mean squared error\n",
        "rmse = np.sqrt(mse) # Calculate root mean squared error\n",
        "print('Root Mean Squared Error:', rmse)\n",
        "\n",
        "# Forecasting\n",
        "last_date = data_monthly.index[-1] # Get last date in data\n",
        "next_date = last_date + pd.DateOffset(months=1) # Get next date for forecasting\n",
        "next_trend = len(data_monthly) # Calculate trend feature for next date\n",
        "last_sales = data_monthly['sales'][-1] # Get last sales value in data\n",
        "next_sales = model.predict([[last_sales, next_trend]]) # Make prediction for next date\n",
        "forecast = pd.DataFrame({'date': [next_date], 'sales': next_sales}) # Create forecast DataFrame\n",
        "forecast.set_index('date', inplace=True) # Set date column as index\n",
        "\n",
        "# Data visualization\n",
        "plt.figure(figsize=(10,5))\n",
        "sns.lineplot(x=data_monthly.index, y='sales', data=data_monthly)\n",
        "sns.lineplot(x=forecast.index, y='sales', data=forecast)\n",
        "plt.title('Monthly Sales Data with Forecast')\n",
        "plt.xlabel('Date')\n",
        "plt.ylabel('Sales')\n",
        "plt.legend(labels=['Actual', 'Forecast'])\n",
        "plt.show()\n"
      ]
    }
  ]
}